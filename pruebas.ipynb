{
 "cells": [
  {
   "cell_type": "code",
   "execution_count": 1,
   "metadata": {},
   "outputs": [],
   "source": [
    "#Importing the libraries\n",
    "import pandas as pd\n",
    "\n"
   ]
  },
  {
   "cell_type": "code",
   "execution_count": 2,
   "metadata": {},
   "outputs": [],
   "source": [
    "df_games=pd.read_parquet(r\"./Data/games_cleaned2.parquet\")"
   ]
  },
  {
   "cell_type": "code",
   "execution_count": 3,
   "metadata": {},
   "outputs": [
    {
     "data": {
      "text/html": [
       "<div>\n",
       "<style scoped>\n",
       "    .dataframe tbody tr th:only-of-type {\n",
       "        vertical-align: middle;\n",
       "    }\n",
       "\n",
       "    .dataframe tbody tr th {\n",
       "        vertical-align: top;\n",
       "    }\n",
       "\n",
       "    .dataframe thead th {\n",
       "        text-align: right;\n",
       "    }\n",
       "</style>\n",
       "<table border=\"1\" class=\"dataframe\">\n",
       "  <thead>\n",
       "    <tr style=\"text-align: right;\">\n",
       "      <th></th>\n",
       "      <th>genres</th>\n",
       "      <th>app_name</th>\n",
       "      <th>price</th>\n",
       "      <th>early_access</th>\n",
       "      <th>id</th>\n",
       "      <th>developer</th>\n",
       "      <th>year</th>\n",
       "    </tr>\n",
       "  </thead>\n",
       "  <tbody>\n",
       "    <tr>\n",
       "      <th>0</th>\n",
       "      <td>Action</td>\n",
       "      <td>Lost Summoner Kitty</td>\n",
       "      <td>4.99</td>\n",
       "      <td>0.0</td>\n",
       "      <td>761140</td>\n",
       "      <td>Kotoshiro</td>\n",
       "      <td>2018</td>\n",
       "    </tr>\n",
       "    <tr>\n",
       "      <th>1</th>\n",
       "      <td>Casual</td>\n",
       "      <td>Lost Summoner Kitty</td>\n",
       "      <td>4.99</td>\n",
       "      <td>0.0</td>\n",
       "      <td>761140</td>\n",
       "      <td>Kotoshiro</td>\n",
       "      <td>2018</td>\n",
       "    </tr>\n",
       "    <tr>\n",
       "      <th>2</th>\n",
       "      <td>Indie</td>\n",
       "      <td>Lost Summoner Kitty</td>\n",
       "      <td>4.99</td>\n",
       "      <td>0.0</td>\n",
       "      <td>761140</td>\n",
       "      <td>Kotoshiro</td>\n",
       "      <td>2018</td>\n",
       "    </tr>\n",
       "    <tr>\n",
       "      <th>3</th>\n",
       "      <td>Simulation</td>\n",
       "      <td>Lost Summoner Kitty</td>\n",
       "      <td>4.99</td>\n",
       "      <td>0.0</td>\n",
       "      <td>761140</td>\n",
       "      <td>Kotoshiro</td>\n",
       "      <td>2018</td>\n",
       "    </tr>\n",
       "    <tr>\n",
       "      <th>4</th>\n",
       "      <td>Strategy</td>\n",
       "      <td>Lost Summoner Kitty</td>\n",
       "      <td>4.99</td>\n",
       "      <td>0.0</td>\n",
       "      <td>761140</td>\n",
       "      <td>Kotoshiro</td>\n",
       "      <td>2018</td>\n",
       "    </tr>\n",
       "  </tbody>\n",
       "</table>\n",
       "</div>"
      ],
      "text/plain": [
       "       genres             app_name  price  early_access      id  developer  \\\n",
       "0      Action  Lost Summoner Kitty   4.99           0.0  761140  Kotoshiro   \n",
       "1      Casual  Lost Summoner Kitty   4.99           0.0  761140  Kotoshiro   \n",
       "2       Indie  Lost Summoner Kitty   4.99           0.0  761140  Kotoshiro   \n",
       "3  Simulation  Lost Summoner Kitty   4.99           0.0  761140  Kotoshiro   \n",
       "4    Strategy  Lost Summoner Kitty   4.99           0.0  761140  Kotoshiro   \n",
       "\n",
       "   year  \n",
       "0  2018  \n",
       "1  2018  \n",
       "2  2018  \n",
       "3  2018  \n",
       "4  2018  "
      ]
     },
     "execution_count": 3,
     "metadata": {},
     "output_type": "execute_result"
    }
   ],
   "source": [
    "df_games.head(\n",
    "\n",
    ")"
   ]
  },
  {
   "cell_type": "code",
   "execution_count": 4,
   "metadata": {},
   "outputs": [
    {
     "data": {
      "text/plain": [
       "str"
      ]
     },
     "execution_count": 4,
     "metadata": {},
     "output_type": "execute_result"
    }
   ],
   "source": [
    "type(df_games['developer'][0])"
   ]
  },
  {
   "cell_type": "code",
   "execution_count": 7,
   "metadata": {},
   "outputs": [],
   "source": [
    "def developer(desarrollador: str):\n",
    "\n",
    "  df_dev=df_games[df_games[\"developer\"]==desarrollador][[\"year\",\"id\",\"price\"]]\n",
    "\n",
    "  grouped_data = df_dev.groupby('year')\n",
    "  unique_id_count = grouped_data['id'].nunique()\n",
    "  zero_price_percentage = grouped_data.apply(lambda group: str(round((group['price'] == 0).mean() * 100))+\"%\")\n",
    "  #error en la posicion del \")\" en  round( +'%'), el porcentaje str no puede ser redondeado.\n",
    "  result_df = pd.DataFrame({\n",
    "        'Cantidad de items': unique_id_count,\n",
    "        'Contenido Free': zero_price_percentage\n",
    "    }).reset_index()\n",
    "\n",
    "  return result_df"
   ]
  },
  {
   "cell_type": "code",
   "execution_count": 12,
   "metadata": {},
   "outputs": [],
   "source": [
    "def developer(desarrollador: str):\n",
    "  df_dev=df_games[df_games[\"developer\"]==desarrollador][[\"year\",\"id\",\"price\"]]\n",
    "\n",
    "  grouped_data = df_dev.groupby('year')\n",
    "  unique_id_count = grouped_data['id'].nunique()\n",
    "  zero_price_percentage = grouped_data.apply(lambda group: str(round((group['price'] == 0).mean() * 100))+\"%\")\n",
    "  \n",
    "  result_df = pd.DataFrame({\n",
    "    'Cantidad de items': unique_id_count,\n",
    "    'Contenido Free': zero_price_percentage\n",
    "    }).reset_index()\n",
    "\n",
    "  result_dict = result_df.to_dict(orient='records')\n",
    "    \n",
    "  return result_dict"
   ]
  },
  {
   "cell_type": "code",
   "execution_count": 13,
   "metadata": {},
   "outputs": [
    {
     "data": {
      "text/plain": [
       "[{'year': '1998', 'Cantidad de items': 1, 'Contenido Free': '0%'},\n",
       " {'year': '1999', 'Cantidad de items': 1, 'Contenido Free': '0%'},\n",
       " {'year': '2000', 'Cantidad de items': 2, 'Contenido Free': '0%'},\n",
       " {'year': '2001', 'Cantidad de items': 1, 'Contenido Free': '0%'},\n",
       " {'year': '2003', 'Cantidad de items': 1, 'Contenido Free': '0%'},\n",
       " {'year': '2004', 'Cantidad de items': 5, 'Contenido Free': '0%'},\n",
       " {'year': '2005', 'Cantidad de items': 1, 'Contenido Free': '100%'},\n",
       " {'year': '2006', 'Cantidad de items': 2, 'Contenido Free': '0%'},\n",
       " {'year': '2007', 'Cantidad de items': 3, 'Contenido Free': '50%'},\n",
       " {'year': '2008', 'Cantidad de items': 1, 'Contenido Free': '0%'},\n",
       " {'year': '2009', 'Cantidad de items': 1, 'Contenido Free': '0%'},\n",
       " {'year': '2010', 'Cantidad de items': 2, 'Contenido Free': '50%'},\n",
       " {'year': '2011', 'Cantidad de items': 1, 'Contenido Free': '0%'},\n",
       " {'year': '2012', 'Cantidad de items': 2, 'Contenido Free': '67%'},\n",
       " {'year': '2014', 'Cantidad de items': 7, 'Contenido Free': '100%'},\n",
       " {'year': '2016', 'Cantidad de items': 1, 'Contenido Free': '100%'},\n",
       " {'year': '2017', 'Cantidad de items': 2, 'Contenido Free': '0%'}]"
      ]
     },
     "execution_count": 13,
     "metadata": {},
     "output_type": "execute_result"
    }
   ],
   "source": [
    "developer('Valve')"
   ]
  },
  {
   "cell_type": "markdown",
   "metadata": {},
   "source": [
    "# el ultimo"
   ]
  },
  {
   "cell_type": "code",
   "execution_count": 40,
   "metadata": {},
   "outputs": [],
   "source": [
    "df_greviews=pd.read_parquet(r\"./Data/g_reviews2.parquet\")"
   ]
  },
  {
   "cell_type": "code",
   "execution_count": 17,
   "metadata": {},
   "outputs": [
    {
     "data": {
      "text/html": [
       "<div>\n",
       "<style scoped>\n",
       "    .dataframe tbody tr th:only-of-type {\n",
       "        vertical-align: middle;\n",
       "    }\n",
       "\n",
       "    .dataframe tbody tr th {\n",
       "        vertical-align: top;\n",
       "    }\n",
       "\n",
       "    .dataframe thead th {\n",
       "        text-align: right;\n",
       "    }\n",
       "</style>\n",
       "<table border=\"1\" class=\"dataframe\">\n",
       "  <thead>\n",
       "    <tr style=\"text-align: right;\">\n",
       "      <th></th>\n",
       "      <th>genres</th>\n",
       "      <th>app_name</th>\n",
       "      <th>price</th>\n",
       "      <th>early_access</th>\n",
       "      <th>id</th>\n",
       "      <th>developer</th>\n",
       "      <th>year</th>\n",
       "      <th>user_id</th>\n",
       "      <th>item_id</th>\n",
       "      <th>recommend</th>\n",
       "      <th>sentiment_analysis</th>\n",
       "    </tr>\n",
       "  </thead>\n",
       "  <tbody>\n",
       "    <tr>\n",
       "      <th>0</th>\n",
       "      <td>Action</td>\n",
       "      <td>Carmageddon Max Pack</td>\n",
       "      <td>9.99</td>\n",
       "      <td>0.0</td>\n",
       "      <td>282010</td>\n",
       "      <td>Stainless Games Ltd</td>\n",
       "      <td>1997</td>\n",
       "      <td>SC3SynC</td>\n",
       "      <td>282010</td>\n",
       "      <td>True</td>\n",
       "      <td>1</td>\n",
       "    </tr>\n",
       "    <tr>\n",
       "      <th>1</th>\n",
       "      <td>Indie</td>\n",
       "      <td>Carmageddon Max Pack</td>\n",
       "      <td>9.99</td>\n",
       "      <td>0.0</td>\n",
       "      <td>282010</td>\n",
       "      <td>Stainless Games Ltd</td>\n",
       "      <td>1997</td>\n",
       "      <td>SC3SynC</td>\n",
       "      <td>282010</td>\n",
       "      <td>True</td>\n",
       "      <td>1</td>\n",
       "    </tr>\n",
       "    <tr>\n",
       "      <th>2</th>\n",
       "      <td>Racing</td>\n",
       "      <td>Carmageddon Max Pack</td>\n",
       "      <td>9.99</td>\n",
       "      <td>0.0</td>\n",
       "      <td>282010</td>\n",
       "      <td>Stainless Games Ltd</td>\n",
       "      <td>1997</td>\n",
       "      <td>SC3SynC</td>\n",
       "      <td>282010</td>\n",
       "      <td>True</td>\n",
       "      <td>1</td>\n",
       "    </tr>\n",
       "    <tr>\n",
       "      <th>3</th>\n",
       "      <td>Action</td>\n",
       "      <td>Half-Life</td>\n",
       "      <td>9.99</td>\n",
       "      <td>0.0</td>\n",
       "      <td>70</td>\n",
       "      <td>Valve</td>\n",
       "      <td>1998</td>\n",
       "      <td>76561198020928326</td>\n",
       "      <td>70</td>\n",
       "      <td>True</td>\n",
       "      <td>2</td>\n",
       "    </tr>\n",
       "    <tr>\n",
       "      <th>4</th>\n",
       "      <td>Action</td>\n",
       "      <td>Half-Life</td>\n",
       "      <td>9.99</td>\n",
       "      <td>0.0</td>\n",
       "      <td>70</td>\n",
       "      <td>Valve</td>\n",
       "      <td>1998</td>\n",
       "      <td>76561198087135044</td>\n",
       "      <td>70</td>\n",
       "      <td>True</td>\n",
       "      <td>1</td>\n",
       "    </tr>\n",
       "  </tbody>\n",
       "</table>\n",
       "</div>"
      ],
      "text/plain": [
       "   genres              app_name  price  early_access      id  \\\n",
       "0  Action  Carmageddon Max Pack   9.99           0.0  282010   \n",
       "1   Indie  Carmageddon Max Pack   9.99           0.0  282010   \n",
       "2  Racing  Carmageddon Max Pack   9.99           0.0  282010   \n",
       "3  Action             Half-Life   9.99           0.0      70   \n",
       "4  Action             Half-Life   9.99           0.0      70   \n",
       "\n",
       "             developer  year            user_id  item_id  recommend  \\\n",
       "0  Stainless Games Ltd  1997            SC3SynC   282010       True   \n",
       "1  Stainless Games Ltd  1997            SC3SynC   282010       True   \n",
       "2  Stainless Games Ltd  1997            SC3SynC   282010       True   \n",
       "3                Valve  1998  76561198020928326       70       True   \n",
       "4                Valve  1998  76561198087135044       70       True   \n",
       "\n",
       "   sentiment_analysis  \n",
       "0                   1  \n",
       "1                   1  \n",
       "2                   1  \n",
       "3                   2  \n",
       "4                   1  "
      ]
     },
     "execution_count": 17,
     "metadata": {},
     "output_type": "execute_result"
    }
   ],
   "source": [
    "df_greviews.head()"
   ]
  },
  {
   "cell_type": "code",
   "execution_count": 15,
   "metadata": {},
   "outputs": [],
   "source": [
    "def developer_reviews_analysis(desarrolladora: str):\n",
    "  df_dev_rev=df_greviews[df_greviews[\"developer\"]==desarrolladora]\n",
    "\n",
    "  dev_rev_new=df_dev_rev[\"sentiment_analysis\"].value_counts().reset_index()\n",
    "\n",
    "  if not (dev_rev_new['index'] == 0).any():\n",
    "    dev_rev_new = pd.concat([dev_rev_new, pd.DataFrame({'index': [0], 'sentiment_analysis': [0]})], ignore_index=True)\n",
    "  if not (dev_rev_new['index'] == 1).any():\n",
    "    dev_rev_new = pd.concat([dev_rev_new, pd.DataFrame({'index': [1], 'sentiment_analysis': [0]})], ignore_index=True)\n",
    "  if not (dev_rev_new['index'] == 2).any():\n",
    "    dev_rev_new = pd.concat([dev_rev_new, pd.DataFrame({'index': [2], 'sentiment_analysis': [0]})], ignore_index=True)\n",
    "  dev_rev_new.sort_values(by=[\"index\"],inplace=True,ignore_index=True)\n",
    "  positive=dev_rev_new.iloc[1,1]\n",
    "  negative=dev_rev_new.iloc[0,0]\n",
    "\n",
    "  return {f\"{desarrolladora}:[Negativos:{negative}, Positivos:{positive}]\"}"
   ]
  },
  {
   "cell_type": "code",
   "execution_count": 20,
   "metadata": {},
   "outputs": [],
   "source": [
    "def developer_reviews_analysis(desarrolladora: str):\n",
    "    df_dev_rev = df_greviews[df_greviews[\"developer\"] == desarrolladora]\n",
    "\n",
    "    dev_rev_new = df_dev_rev[\"sentiment_analysis\"].value_counts().reset_index()\n",
    "\n",
    "    # Agregar filas para sentimientos faltantes\n",
    "    for index in range(3):\n",
    "        if index not in dev_rev_new['index'].values:\n",
    "            dev_rev_new.sort_values(inplace=True)\n",
    "            #dev_rev_new = dev_rev_new.append({'index': index, 'sentiment_analysis': 0}, ignore_index=True)\n",
    "\n",
    "    dev_rev_new.sort_values(by=[\"index\"], inplace=True)\n",
    "    dev_rev_new.reset_index(drop=True, inplace=True)\n",
    "\n",
    "    positive = dev_rev_new[dev_rev_new['index'] == 2]['sentiment_analysis'].values[0]\n",
    "    negative = dev_rev_new[dev_rev_new['index'] == 0]['sentiment_analysis'].values[0]\n",
    "\n",
    "    return {f\"{desarrolladora}:[Negativos:{negative}, Positivos:{positive}]\"}"
   ]
  },
  {
   "cell_type": "code",
   "execution_count": 43,
   "metadata": {},
   "outputs": [
    {
     "ename": "TypeError",
     "evalue": "developer_reviews_analysisCHAT() missing 1 required positional argument: 'df_greviews'",
     "output_type": "error",
     "traceback": [
      "\u001b[1;31m---------------------------------------------------------------------------\u001b[0m",
      "\u001b[1;31mTypeError\u001b[0m                                 Traceback (most recent call last)",
      "Cell \u001b[1;32mIn[43], line 1\u001b[0m\n\u001b[1;32m----> 1\u001b[0m \u001b[43mdeveloper_reviews_analysisCHAT\u001b[49m\u001b[43m(\u001b[49m\u001b[38;5;124;43m'\u001b[39;49m\u001b[38;5;124;43mValve\u001b[39;49m\u001b[38;5;124;43m'\u001b[39;49m\u001b[43m)\u001b[49m\n",
      "\u001b[1;31mTypeError\u001b[0m: developer_reviews_analysisCHAT() missing 1 required positional argument: 'df_greviews'"
     ]
    }
   ],
   "source": [
    "developer_reviews_analysisCHAT('Valve')"
   ]
  }
 ],
 "metadata": {
  "kernelspec": {
   "display_name": "Python 3",
   "language": "python",
   "name": "python3"
  },
  "language_info": {
   "codemirror_mode": {
    "name": "ipython",
    "version": 3
   },
   "file_extension": ".py",
   "mimetype": "text/x-python",
   "name": "python",
   "nbconvert_exporter": "python",
   "pygments_lexer": "ipython3",
   "version": "3.11.8"
  }
 },
 "nbformat": 4,
 "nbformat_minor": 2
}
